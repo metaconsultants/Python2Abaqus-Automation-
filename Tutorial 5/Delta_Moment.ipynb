{
 "cells": [
  {
   "cell_type": "code",
   "execution_count": null,
   "metadata": {
    "colab": {
     "base_uri": "https://localhost:8080/"
    },
    "id": "gIAVZkgxL9gO",
    "outputId": "a2e8cd76-4f39-4bf9-c3a5-3a8b9e614035"
   },
   "outputs": [
    {
     "name": "stdout",
     "output_type": "stream",
     "text": [
      "Collecting salib\n",
      "\u001b[?25l  Downloading https://files.pythonhosted.org/packages/b0/47/edc4722bc2b7b980079dcd8f4a58cc212a0f042fdd79e6bf603a338ebdb7/SALib-1.3.13.tar.gz (856kB)\n",
      "\u001b[K     |████████████████████████████████| 860kB 5.4MB/s \n",
      "\u001b[?25hRequirement already satisfied: numpy in /usr/local/lib/python3.7/dist-packages (from salib) (1.19.5)\n",
      "Requirement already satisfied: scipy in /usr/local/lib/python3.7/dist-packages (from salib) (1.4.1)\n",
      "Requirement already satisfied: matplotlib in /usr/local/lib/python3.7/dist-packages (from salib) (3.2.2)\n",
      "Requirement already satisfied: pandas in /usr/local/lib/python3.7/dist-packages (from salib) (1.1.5)\n",
      "Requirement already satisfied: pyparsing!=2.0.4,!=2.1.2,!=2.1.6,>=2.0.1 in /usr/local/lib/python3.7/dist-packages (from matplotlib->salib) (2.4.7)\n",
      "Requirement already satisfied: python-dateutil>=2.1 in /usr/local/lib/python3.7/dist-packages (from matplotlib->salib) (2.8.1)\n",
      "Requirement already satisfied: cycler>=0.10 in /usr/local/lib/python3.7/dist-packages (from matplotlib->salib) (0.10.0)\n",
      "Requirement already satisfied: kiwisolver>=1.0.1 in /usr/local/lib/python3.7/dist-packages (from matplotlib->salib) (1.3.1)\n",
      "Requirement already satisfied: pytz>=2017.2 in /usr/local/lib/python3.7/dist-packages (from pandas->salib) (2018.9)\n",
      "Requirement already satisfied: six>=1.5 in /usr/local/lib/python3.7/dist-packages (from python-dateutil>=2.1->matplotlib->salib) (1.15.0)\n",
      "Building wheels for collected packages: salib\n",
      "  Building wheel for salib (setup.py) ... \u001b[?25l\u001b[?25hdone\n",
      "  Created wheel for salib: filename=SALib-1.3.13-py2.py3-none-any.whl size=729580 sha256=fc9a6631db1f8113228434f2f70c5b6cd48379faa8555439901c309b4ea3f4b4\n",
      "  Stored in directory: /root/.cache/pip/wheels/d7/c3/9b/c5219d4848c1c4d308b41672c0a8c5f2a95c94ed000d6bb5d9\n",
      "Successfully built salib\n",
      "Installing collected packages: salib\n",
      "Successfully installed salib-1.3.13\n"
     ]
    }
   ],
   "source": [
    "!pip install salib\n"
   ]
  },
  {
   "cell_type": "code",
   "execution_count": null,
   "metadata": {
    "id": "mKR19XyCMaJM"
   },
   "outputs": [],
   "source": [
    "import pandas as pd\n",
    "import numpy as np\n",
    "#df = pd.read_csv (r'data.csv')\n",
    "\n",
    " "
   ]
  },
  {
   "cell_type": "code",
   "execution_count": null,
   "metadata": {
    "id": "DJL0yqFAOGaX"
   },
   "outputs": [],
   "source": [
    "problem = {\n",
    "    'num_vars': 4,\n",
    "    'names': ['E_board', 'E_stud', 'E_pull', 'E_Shear'],\n",
    "    'bounds': [[0.95*2300, 1.05*2300],\n",
    "               [0.95*170000, 1.05*170000],\n",
    "               [0.95*2000, 1.05*2000],\n",
    "               [0.95*1314, 1.05*1314]]    \n",
    "}\n"
   ]
  },
  {
   "cell_type": "code",
   "execution_count": null,
   "metadata": {
    "id": "qJHpTdc-NPvN"
   },
   "outputs": [],
   "source": [
    "param_values = np.loadtxt(\"para_values.txt\", float)\n",
    "Y = np.loadtxt(\"PS.txt\", float)\n"
   ]
  },
  {
   "cell_type": "code",
   "execution_count": null,
   "metadata": {
    "colab": {
     "base_uri": "https://localhost:8080/"
    },
    "id": "nDy2E9Q_TDR7",
    "outputId": "815e37fb-cea2-408e-c126-b3f509c4fe61"
   },
   "outputs": [
    {
     "name": "stdout",
     "output_type": "stream",
     "text": [
      "Parameter delta delta_conf S1 S1_conf\n",
      "E_board 0.097933 0.060947 0.080613 0.138047\n",
      "E_stud 0.402046 0.093038 0.725381 0.138830\n",
      "E_pull 0.101565 0.057657 0.102783 0.121076\n",
      "E_Shear 0.071187 0.090138 0.089737 0.141281\n"
     ]
    }
   ],
   "source": [
    "from SALib.analyze import delta\n",
    "\n",
    "Si = delta.analyze(problem, param_values, Y, print_to_console=True)"
   ]
  },
  {
   "cell_type": "code",
   "execution_count": null,
   "metadata": {
    "id": "SUn2pJoOLGou"
   },
   "outputs": [],
   "source": [
    "import matplotlib.pyplot as plt\n",
    "%matplotlib inline\n",
    "import numpy as np\n",
    "from scipy.stats import pearsonr"
   ]
  },
  {
   "cell_type": "code",
   "execution_count": null,
   "metadata": {
    "colab": {
     "base_uri": "https://localhost:8080/",
     "height": 434
    },
    "id": "Ktr2gNR0LHl4",
    "outputId": "74a73907-b904-4ed4-df1b-77eaca31e4c2"
   },
   "outputs": [
    {
     "name": "stdout",
     "output_type": "stream",
     "text": [
      "Pearsons correlation: -0.083\n",
      "Pearsons correlation: 0.863\n",
      "Pearsons correlation: 0.186\n",
      "Pearsons correlation: -0.037\n"
     ]
    },
    {
     "data": {
      "image/png": "[encoded data removed]",
      "text/plain": [
       "<Figure size 540x360 with 4 Axes>"
      ]
     },
     "metadata": {
      "needs_background": "light",
      "tags": []
     },
     "output_type": "display_data"
    }
   ],
   "source": [
    "fig = plt.figure()\n",
    "\n",
    "plt.rcParams['figure.figsize'] = [7.5,5]\n",
    "plt.rcParams[\"font.weight\"] = \"normal\"\n",
    "\n",
    "fontdict={'fontsize': 15,\n",
    "          'weight' : 'normal'}\n",
    "\n",
    "fontdicty={'fontsize': 15,\n",
    "          'weight' : 'normal',\n",
    "          'verticalalignment': 'baseline',\n",
    "          'horizontalalignment': 'center'}\n",
    "\n",
    "fontdictx={'fontsize': 12,\n",
    "          'weight' : 'normal',\n",
    "          'horizontalalignment': 'center'}\n",
    "\n",
    "plt.subplots_adjust(wspace=0.4, hspace=0.4)\n",
    "\n",
    "fig.suptitle('Partition Stiffness', fontsize=15, color=\"black\", \n",
    "             position=(0.5,1.01))\n",
    "\n",
    "ax1 = fig.add_subplot(221)\n",
    "ax1.scatter(param_values[:,0], Y, c=\"green\")\n",
    "ax1.set_title('E_Board', fontdict=fontdict, color=\"green\")\n",
    "ax1.set_ylabel(\"Partition Stiffness (*10^3 Nm)\", fontdict=fontdicty, position=(0,-0.1))\n",
    "corr, _ = pearsonr(param_values[:,0], Y)\n",
    "print('Pearsons correlation: %.3f' % corr)\n",
    "\n",
    "\n",
    "ax2 = fig.add_subplot(222)\n",
    "ax2.scatter(param_values[:,1], Y, c=\"orange\")\n",
    "ax2.set_title('E_Stud', fontdict=fontdict, color=\"orange\")\n",
    "corr, _ = pearsonr(param_values[:,1], Y)\n",
    "print('Pearsons correlation: %.3f' % corr)\n",
    "\n",
    "\n",
    "ax3 = fig.add_subplot(223)\n",
    "ax3.scatter(param_values[:,2], Y, c=\"brown\")\n",
    "ax3.set_title('E_Pull', fontdict=fontdict, color=\"brown\")\n",
    "corr, _ = pearsonr(param_values[:,2], Y)\n",
    "print('Pearsons correlation: %.3f' % corr)\n",
    "\n",
    "\n",
    "ax4 = fig.add_subplot(224)\n",
    "ax4.scatter(param_values[:,3], Y, c=\"blue\")\n",
    "ax4.set_title(\"E_Shear\", fontdict=fontdict, color=\"blue\")\n",
    "corr, _ = pearsonr(param_values[:,3], Y)\n",
    "print('Pearsons correlation: %.3f' % corr) \n"
   ]
  },
  {
   "cell_type": "code",
   "execution_count": 53,
   "metadata": {
    "colab": {
     "base_uri": "https://localhost:8080/",
     "height": 228
    },
    "id": "ER5cm9Q5UiO5",
    "outputId": "cfcb6ed7-0ce4-41af-f6d2-590eea6aa658"
   },
   "outputs": [
    {
     "data": {
      "image/png": "[encoded data removed]",
      "text/plain": [
       "<Figure size 324x216 with 1 Axes>"
      ]
     },
     "metadata": {
      "needs_background": "light",
      "tags": []
     },
     "output_type": "display_data"
    }
   ],
   "source": [
    "import matplotlib\n",
    "import matplotlib.pyplot as plt\n",
    "import numpy as np\n",
    "\n",
    "\n",
    "labels = ['E_Board', 'E_Stud', 'E_Pull', 'E_Shear']\n",
    "Data=['S1','Delta']\n",
    "\n",
    "S1 = [0.080613, 0.725381, 0.102783 , 0.089737 ]\n",
    "Delta = [0.097933 , 0.402046 , 0.101565 , 0.071187]\n",
    "\n",
    "x = np.arange(len(labels))  # the label locations\n",
    "width = 0.25  # the width of the bars\n",
    "pos = np.arange(len(S1))\n",
    "\n",
    "\n",
    "fig = plt.subplots(figsize=(4.5,3))\n",
    "plt.bar(pos,S1,width,color='blue',edgecolor='black')\n",
    "plt.bar(pos+width,Delta,width,color='pink',edgecolor='black')\n",
    "#rects1 = ax.bar(x - width/2, S1, width, label='S1')\n",
    "#rects2 = ax.bar(x + width/2, Delta, width, label='Delta')\n",
    "\n",
    "# Add some text for labels, title and custom x-axis tick labels, etc.\n",
    "plt.ylabel('Partition Stiffness')\n",
    "plt.title('Sensitivity Index')\n",
    "plt.xticks(pos, labels)\n",
    " \n",
    "#ax.bar_label(rects1, padding=2)\n",
    "#ax.bar_label(rects2, padding=2)\n",
    "plt.legend(Data,loc=1)\n",
    "plt.show()"
   ]
  },
  {
   "cell_type": "code",
   "execution_count": 43,
   "metadata": {
    "colab": {
     "base_uri": "https://localhost:8080/",
     "height": 359
    },
    "id": "fGQRveyuly2A",
    "outputId": "b95f2690-5873-4c07-c60b-00f84972c510"
   },
   "outputs": [
    {
     "data": {
      "image/png": "[encoded data removed]",
      "text/plain": [
       "<Figure size 540x360 with 1 Axes>"
      ]
     },
     "metadata": {
      "needs_background": "light",
      "tags": []
     },
     "output_type": "display_data"
    }
   ],
   "source": [
    "import matplotlib.pyplot as plt\n",
    "import numpy as np\n",
    "\n",
    " \n",
    "\n",
    "city=['Delhi','Beijing','Washington','Tokyo','Moscow']\n",
    "\n",
    "Gender=['Male','Female']\n",
    "\n",
    "pos = np.arange(len(city))\n",
    "\n",
    "bar_width = 0.35\n",
    "\n",
    "Happiness_Index_Male=[60,40,70,65,85]\n",
    "\n",
    "Happiness_Index_Female=[30,60,70,55,75]\n",
    "\n",
    " \n",
    "\n",
    "plt.bar(pos,Happiness_Index_Male,bar_width,color='blue',edgecolor='black')\n",
    "\n",
    "plt.bar(pos+bar_width,Happiness_Index_Female,bar_width,color='pink',edgecolor='black')\n",
    "\n",
    "plt.xticks(pos, city)\n",
    "\n",
    "plt.xlabel('City', fontsize=16)\n",
    "\n",
    "plt.ylabel('Happiness_Index', fontsize=16)\n",
    "\n",
    "plt.title('Group Barchart - Happiness index across cities By Gender',fontsize=18)\n",
    "\n",
    "plt.legend(Gender,loc=2)\n",
    "\n",
    "plt.show()"
   ]
  }
 ],
 "metadata": {
  "colab": {
   "collapsed_sections": [],
   "name": "Delta_Moment.ipynb",
   "provenance": []
  },
  "kernelspec": {
   "display_name": "Python 3",
   "language": "python",
   "name": "python3"
  },
  "language_info": {
   "codemirror_mode": {
    "name": "ipython",
    "version": 3
   },
   "file_extension": ".py",
   "mimetype": "text/x-python",
   "name": "python",
   "nbconvert_exporter": "python",
   "pygments_lexer": "ipython3",
   "version": "3.8.6"
  }
 },
 "nbformat": 4,
 "nbformat_minor": 1
}
